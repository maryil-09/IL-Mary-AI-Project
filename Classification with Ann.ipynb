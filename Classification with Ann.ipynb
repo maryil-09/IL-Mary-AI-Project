{
 "cells": [
  {
   "cell_type": "code",
   "execution_count": 1,
   "id": "6f5ff1c1-986d-413d-a978-83941ba26255",
   "metadata": {},
   "outputs": [],
   "source": [
    "import pandas as pd, numpy as np, seaborn as sns, matplotlib.pyplot as plt, warnings\n",
    "from sklearn.ensemble import RandomForestClassifier\n",
    "from sklearn.preprocessing import StandardScaler , OneHotEncoder, OrdinalEncoder\n",
    "from sklearn.model_selection import train_test_split\n",
    "from sklearn.metrics import confusion_matrix, accuracy_score\n",
    "from sklearn.pipeline import Pipeline\n",
    "from sklearn.compose import ColumnTransformer\n",
    "warnings.filterwarnings(\"ignore\")\n",
    "pd.set_option('display.max_columns', None)"
   ]
  },
  {
   "cell_type": "code",
   "execution_count": 2,
   "id": "9b7a79fd-6fe9-44de-9390-b91e15a2f56d",
   "metadata": {},
   "outputs": [],
   "source": [
    "import tensorflow as tf"
   ]
  },
  {
   "cell_type": "code",
   "execution_count": 3,
   "id": "7147f0ba-22af-4356-a303-64830c455236",
   "metadata": {},
   "outputs": [],
   "source": [
    "from tensorflow.keras.layers import Normalization, Dense, InputLayer\n",
    "from tensorflow.keras.losses import MeanSquaredError, Huber, MeanAbsoluteError\n",
    "from tensorflow.keras.metrics import RootMeanSquaredError"
   ]
  },
  {
   "cell_type": "code",
   "execution_count": 4,
   "id": "9bc6c923-8c90-49dd-b3fc-993edf157344",
   "metadata": {},
   "outputs": [],
   "source": [
    "df = pd.read_csv(\"https://raw.githubusercontent.com/ManonYa09/Statistics_with_Python_G7/main/Dataset/YdGwfiz4Tp2RsH4s-E6d5g_fe6fe3c8cf0d49028b6706bf33f91df1_Invistico_Airline.csv\")"
   ]
  },
  {
   "cell_type": "code",
   "execution_count": 5,
   "id": "c644dd67-ea23-4c53-8364-3d23873313e5",
   "metadata": {},
   "outputs": [],
   "source": [
    "target = 'satisfaction'"
   ]
  },
  {
   "cell_type": "code",
   "execution_count": 6,
   "id": "c8805c82-f55e-4ea3-a3c1-f479d98ade81",
   "metadata": {},
   "outputs": [],
   "source": [
    "cat_columns = []\n",
    "num_column = []\n",
    "for column in df.columns:\n",
    "    if column == target:\n",
    "        continue\n",
    "    elif df[column].nunique() <= 3:\n",
    "        cat_columns.append(column)\n",
    "    else:\n",
    "        num_column.append(column)"
   ]
  },
  {
   "cell_type": "code",
   "execution_count": 7,
   "id": "1adae70b-4918-44ee-86ba-efb52612427e",
   "metadata": {},
   "outputs": [],
   "source": [
    "from sklearn.impute import SimpleImputer"
   ]
  },
  {
   "cell_type": "code",
   "execution_count": 8,
   "id": "634d5095-e339-4826-86c3-583074d57d11",
   "metadata": {},
   "outputs": [],
   "source": [
    "numeric_transformer = Pipeline([\n",
    "    ('imputer_num', SimpleImputer(strategy='mean')),\n",
    "    ('Scaler', StandardScaler())\n",
    "])"
   ]
  },
  {
   "cell_type": "code",
   "execution_count": 9,
   "id": "1cadd451-1a6e-447f-81d5-d62a92becfcd",
   "metadata": {},
   "outputs": [],
   "source": [
    "categorical_transformer = Pipeline([\n",
    "    ('imputer_cat', SimpleImputer(strategy='most_frequent')),\n",
    "    ('Encoder', OneHotEncoder())\n",
    "])"
   ]
  },
  {
   "cell_type": "code",
   "execution_count": 10,
   "id": "49147ff5-e097-413b-8b2a-88b7c72587f1",
   "metadata": {},
   "outputs": [],
   "source": [
    "preprocessor = ColumnTransformer(transformers=[\n",
    "    ('num', numeric_transformer, num_column),\n",
    "    ('cat', categorical_transformer, cat_columns)\n",
    "])"
   ]
  },
  {
   "cell_type": "code",
   "execution_count": null,
   "id": "3bd88240-2ab6-4860-8992-94347c298d8f",
   "metadata": {},
   "outputs": [],
   "source": []
  },
  {
   "cell_type": "code",
   "execution_count": 11,
   "id": "f6e1ee13-e091-42a8-84e3-43a685169c5e",
   "metadata": {},
   "outputs": [],
   "source": [
    "x = df.drop(columns=target)\n",
    "y = df[target]"
   ]
  },
  {
   "cell_type": "code",
   "execution_count": 12,
   "id": "c3126d3f-e2f1-420b-aa1c-0939c6677607",
   "metadata": {},
   "outputs": [
    {
     "data": {
      "text/plain": [
       "satisfaction\n",
       "satisfied       71087\n",
       "dissatisfied    58793\n",
       "Name: count, dtype: int64"
      ]
     },
     "execution_count": 12,
     "metadata": {},
     "output_type": "execute_result"
    }
   ],
   "source": [
    "y.value_counts()"
   ]
  },
  {
   "cell_type": "code",
   "execution_count": 13,
   "id": "ab4ddacf-2a91-4fef-adc8-1b4b3300068a",
   "metadata": {},
   "outputs": [],
   "source": [
    "X_transformed = preprocessor.fit_transform(x)"
   ]
  },
  {
   "cell_type": "code",
   "execution_count": 14,
   "id": "a0071260-36f9-4d20-99a0-ff72e6763673",
   "metadata": {},
   "outputs": [
    {
     "data": {
      "text/plain": [
       "array([[ 1.69135082, -1.6711027 , -2.03779055, ...,  0.        ,\n",
       "         1.        ,  0.        ],\n",
       "       [ 0.50081965,  0.46985247, -2.03779055, ...,  1.        ,\n",
       "         0.        ,  0.        ],\n",
       "       [-1.61568021,  0.15245757, -2.03779055, ...,  0.        ,\n",
       "         1.        ,  0.        ],\n",
       "       ...,\n",
       "       [ 1.9559133 ,  0.32965349,  0.11586891, ...,  0.        ,\n",
       "         1.        ,  0.        ],\n",
       "       [ 1.75749144,  0.45622201,  0.11586891, ...,  0.        ,\n",
       "         1.        ,  0.        ],\n",
       "       [-0.09444593,  2.26420462,  0.11586891, ...,  0.        ,\n",
       "         1.        ,  0.        ]])"
      ]
     },
     "execution_count": 14,
     "metadata": {},
     "output_type": "execute_result"
    }
   ],
   "source": [
    "X_transformed"
   ]
  },
  {
   "cell_type": "code",
   "execution_count": 15,
   "id": "58cf9349-003a-4662-8327-585b66b9899c",
   "metadata": {},
   "outputs": [],
   "source": [
    "y = y.replace({'satisfied':1, 'dissatisfied':0})"
   ]
  },
  {
   "cell_type": "code",
   "execution_count": 16,
   "id": "70c266b1-4c5d-4fbb-9a5a-6aef02edd33d",
   "metadata": {},
   "outputs": [],
   "source": [
    "X_train, X_test, y_train, y_test = train_test_split(X_transformed, y, test_size=0.2, random_state=42)\n"
   ]
  },
  {
   "cell_type": "code",
   "execution_count": 17,
   "id": "a914dce4-469e-4b55-a31d-ab36b9be9acc",
   "metadata": {},
   "outputs": [],
   "source": [
    "input_shape = X_train.shape[1]"
   ]
  },
  {
   "cell_type": "code",
   "execution_count": 18,
   "id": "0e66bf3d-9f3a-4f25-ba19-697bc12d7a8b",
   "metadata": {},
   "outputs": [],
   "source": [
    "  # Determine input shape dynamically\n",
    "model = tf.keras.Sequential([\n",
    "    InputLayer(input_shape=(input_shape,)),\n",
    "    Dense(128, activation=\"relu\"),\n",
    "    Dense(64, activation=\"relu\"),\n",
    "    Dense(32, activation=\"sigmoid\"),\n",
    "    Dense(16, activation=\"sigmoid\"),\n",
    "    Dense(2, activation='sigmoid')\n",
    "]) #relu : output >0"
   ]
  },
  {
   "cell_type": "code",
   "execution_count": 19,
   "id": "87c266a9-f810-4b27-99d0-f533ed9f26de",
   "metadata": {},
   "outputs": [],
   "source": [
    "model.compile(optimizer='adam', loss='sparse_categorical_crossentropy', metrics=['accuracy'])"
   ]
  },
  {
   "cell_type": "code",
   "execution_count": null,
   "id": "02eb91ed-e195-4da3-8bf7-9cdfaaab91d6",
   "metadata": {},
   "outputs": [
    {
     "name": "stdout",
     "output_type": "stream",
     "text": [
      "Epoch 1/300\n",
      "\u001b[1m3247/3247\u001b[0m \u001b[32m━━━━━━━━━━━━━━━━━━━━\u001b[0m\u001b[37m\u001b[0m \u001b[1m22s\u001b[0m 5ms/step - accuracy: 0.8794 - loss: 0.2824 - val_accuracy: 0.9331 - val_loss: 0.1550\n",
      "Epoch 2/300\n",
      "\u001b[1m3247/3247\u001b[0m \u001b[32m━━━━━━━━━━━━━━━━━━━━\u001b[0m\u001b[37m\u001b[0m \u001b[1m16s\u001b[0m 5ms/step - accuracy: 0.9390 - loss: 0.1441 - val_accuracy: 0.9434 - val_loss: 0.1299\n",
      "Epoch 3/300\n",
      "\u001b[1m3247/3247\u001b[0m \u001b[32m━━━━━━━━━━━━━━━━━━━━\u001b[0m\u001b[37m\u001b[0m \u001b[1m15s\u001b[0m 5ms/step - accuracy: 0.9466 - loss: 0.1251 - val_accuracy: 0.9480 - val_loss: 0.1202\n",
      "Epoch 4/300\n",
      "\u001b[1m3247/3247\u001b[0m \u001b[32m━━━━━━━━━━━━━━━━━━━━\u001b[0m\u001b[37m\u001b[0m \u001b[1m15s\u001b[0m 5ms/step - accuracy: 0.9502 - loss: 0.1150 - val_accuracy: 0.9518 - val_loss: 0.1108\n",
      "Epoch 5/300\n",
      "\u001b[1m3247/3247\u001b[0m \u001b[32m━━━━━━━━━━━━━━━━━━━━\u001b[0m\u001b[37m\u001b[0m \u001b[1m15s\u001b[0m 5ms/step - accuracy: 0.9528 - loss: 0.1085 - val_accuracy: 0.9474 - val_loss: 0.1177\n",
      "Epoch 6/300\n",
      "\u001b[1m3247/3247\u001b[0m \u001b[32m━━━━━━━━━━━━━━━━━━━━\u001b[0m\u001b[37m\u001b[0m \u001b[1m15s\u001b[0m 5ms/step - accuracy: 0.9546 - loss: 0.1041 - val_accuracy: 0.9534 - val_loss: 0.1069\n",
      "Epoch 7/300\n",
      "\u001b[1m3247/3247\u001b[0m \u001b[32m━━━━━━━━━━━━━━━━━━━━\u001b[0m\u001b[37m\u001b[0m \u001b[1m15s\u001b[0m 5ms/step - accuracy: 0.9564 - loss: 0.1010 - val_accuracy: 0.9545 - val_loss: 0.1060\n",
      "Epoch 8/300\n",
      "\u001b[1m3247/3247\u001b[0m \u001b[32m━━━━━━━━━━━━━━━━━━━━\u001b[0m\u001b[37m\u001b[0m \u001b[1m15s\u001b[0m 5ms/step - accuracy: 0.9575 - loss: 0.0965 - val_accuracy: 0.9556 - val_loss: 0.0994\n",
      "Epoch 9/300\n",
      "\u001b[1m3247/3247\u001b[0m \u001b[32m━━━━━━━━━━━━━━━━━━━━\u001b[0m\u001b[37m\u001b[0m \u001b[1m16s\u001b[0m 5ms/step - accuracy: 0.9596 - loss: 0.0917 - val_accuracy: 0.9532 - val_loss: 0.1023\n",
      "Epoch 10/300\n",
      "\u001b[1m3247/3247\u001b[0m \u001b[32m━━━━━━━━━━━━━━━━━━━━\u001b[0m\u001b[37m\u001b[0m \u001b[1m15s\u001b[0m 5ms/step - accuracy: 0.9590 - loss: 0.0929 - val_accuracy: 0.9548 - val_loss: 0.1005\n",
      "Epoch 11/300\n",
      "\u001b[1m3247/3247\u001b[0m \u001b[32m━━━━━━━━━━━━━━━━━━━━\u001b[0m\u001b[37m\u001b[0m \u001b[1m16s\u001b[0m 5ms/step - accuracy: 0.9608 - loss: 0.0883 - val_accuracy: 0.9561 - val_loss: 0.0988\n",
      "Epoch 12/300\n",
      "\u001b[1m3247/3247\u001b[0m \u001b[32m━━━━━━━━━━━━━━━━━━━━\u001b[0m\u001b[37m\u001b[0m \u001b[1m16s\u001b[0m 5ms/step - accuracy: 0.9618 - loss: 0.0840 - val_accuracy: 0.9558 - val_loss: 0.1030\n",
      "Epoch 13/300\n",
      "\u001b[1m3247/3247\u001b[0m \u001b[32m━━━━━━━━━━━━━━━━━━━━\u001b[0m\u001b[37m\u001b[0m \u001b[1m15s\u001b[0m 5ms/step - accuracy: 0.9624 - loss: 0.0838 - val_accuracy: 0.9550 - val_loss: 0.1039\n",
      "Epoch 14/300\n",
      "\u001b[1m3247/3247\u001b[0m \u001b[32m━━━━━━━━━━━━━━━━━━━━\u001b[0m\u001b[37m\u001b[0m \u001b[1m15s\u001b[0m 5ms/step - accuracy: 0.9624 - loss: 0.0832 - val_accuracy: 0.9556 - val_loss: 0.1003\n",
      "Epoch 15/300\n",
      "\u001b[1m3247/3247\u001b[0m \u001b[32m━━━━━━━━━━━━━━━━━━━━\u001b[0m\u001b[37m\u001b[0m \u001b[1m16s\u001b[0m 5ms/step - accuracy: 0.9638 - loss: 0.0808 - val_accuracy: 0.9574 - val_loss: 0.0994\n",
      "Epoch 16/300\n",
      "\u001b[1m3247/3247\u001b[0m \u001b[32m━━━━━━━━━━━━━━━━━━━━\u001b[0m\u001b[37m\u001b[0m \u001b[1m17s\u001b[0m 5ms/step - accuracy: 0.9638 - loss: 0.0797 - val_accuracy: 0.9573 - val_loss: 0.0985\n",
      "Epoch 17/300\n",
      "\u001b[1m3247/3247\u001b[0m \u001b[32m━━━━━━━━━━━━━━━━━━━━\u001b[0m\u001b[37m\u001b[0m \u001b[1m16s\u001b[0m 5ms/step - accuracy: 0.9645 - loss: 0.0804 - val_accuracy: 0.9557 - val_loss: 0.0989\n",
      "Epoch 18/300\n",
      "\u001b[1m3247/3247\u001b[0m \u001b[32m━━━━━━━━━━━━━━━━━━━━\u001b[0m\u001b[37m\u001b[0m \u001b[1m17s\u001b[0m 5ms/step - accuracy: 0.9659 - loss: 0.0758 - val_accuracy: 0.9576 - val_loss: 0.0973\n",
      "Epoch 19/300\n",
      "\u001b[1m3247/3247\u001b[0m \u001b[32m━━━━━━━━━━━━━━━━━━━━\u001b[0m\u001b[37m\u001b[0m \u001b[1m17s\u001b[0m 5ms/step - accuracy: 0.9654 - loss: 0.0759 - val_accuracy: 0.9566 - val_loss: 0.1026\n",
      "Epoch 20/300\n",
      "\u001b[1m3247/3247\u001b[0m \u001b[32m━━━━━━━━━━━━━━━━━━━━\u001b[0m\u001b[37m\u001b[0m \u001b[1m17s\u001b[0m 5ms/step - accuracy: 0.9662 - loss: 0.0750 - val_accuracy: 0.9579 - val_loss: 0.1020\n",
      "Epoch 21/300\n",
      "\u001b[1m3247/3247\u001b[0m \u001b[32m━━━━━━━━━━━━━━━━━━━━\u001b[0m\u001b[37m\u001b[0m \u001b[1m17s\u001b[0m 5ms/step - accuracy: 0.9658 - loss: 0.0750 - val_accuracy: 0.9573 - val_loss: 0.0995\n",
      "Epoch 22/300\n",
      "\u001b[1m3247/3247\u001b[0m \u001b[32m━━━━━━━━━━━━━━━━━━━━\u001b[0m\u001b[37m\u001b[0m \u001b[1m16s\u001b[0m 5ms/step - accuracy: 0.9670 - loss: 0.0716 - val_accuracy: 0.9571 - val_loss: 0.1078\n",
      "Epoch 23/300\n",
      "\u001b[1m3247/3247\u001b[0m \u001b[32m━━━━━━━━━━━━━━━━━━━━\u001b[0m\u001b[37m\u001b[0m \u001b[1m17s\u001b[0m 5ms/step - accuracy: 0.9683 - loss: 0.0698 - val_accuracy: 0.9564 - val_loss: 0.1027\n",
      "Epoch 24/300\n",
      "\u001b[1m3247/3247\u001b[0m \u001b[32m━━━━━━━━━━━━━━━━━━━━\u001b[0m\u001b[37m\u001b[0m \u001b[1m17s\u001b[0m 5ms/step - accuracy: 0.9686 - loss: 0.0694 - val_accuracy: 0.9563 - val_loss: 0.1011\n",
      "Epoch 25/300\n",
      "\u001b[1m3247/3247\u001b[0m \u001b[32m━━━━━━━━━━━━━━━━━━━━\u001b[0m\u001b[37m\u001b[0m \u001b[1m18s\u001b[0m 5ms/step - accuracy: 0.9686 - loss: 0.0700 - val_accuracy: 0.9571 - val_loss: 0.1063\n",
      "Epoch 26/300\n",
      "\u001b[1m3247/3247\u001b[0m \u001b[32m━━━━━━━━━━━━━━━━━━━━\u001b[0m\u001b[37m\u001b[0m \u001b[1m16s\u001b[0m 5ms/step - accuracy: 0.9688 - loss: 0.0679 - val_accuracy: 0.9548 - val_loss: 0.1112\n",
      "Epoch 27/300\n",
      "\u001b[1m3247/3247\u001b[0m \u001b[32m━━━━━━━━━━━━━━━━━━━━\u001b[0m\u001b[37m\u001b[0m \u001b[1m16s\u001b[0m 5ms/step - accuracy: 0.9681 - loss: 0.0684 - val_accuracy: 0.9571 - val_loss: 0.1083\n",
      "Epoch 28/300\n",
      "\u001b[1m3247/3247\u001b[0m \u001b[32m━━━━━━━━━━━━━━━━━━━━\u001b[0m\u001b[37m\u001b[0m \u001b[1m16s\u001b[0m 5ms/step - accuracy: 0.9698 - loss: 0.0662 - val_accuracy: 0.9547 - val_loss: 0.1098\n",
      "Epoch 29/300\n",
      "\u001b[1m3247/3247\u001b[0m \u001b[32m━━━━━━━━━━━━━━━━━━━━\u001b[0m\u001b[37m\u001b[0m \u001b[1m18s\u001b[0m 6ms/step - accuracy: 0.9700 - loss: 0.0656 - val_accuracy: 0.9560 - val_loss: 0.1100\n",
      "Epoch 30/300\n",
      "\u001b[1m3247/3247\u001b[0m \u001b[32m━━━━━━━━━━━━━━━━━━━━\u001b[0m\u001b[37m\u001b[0m \u001b[1m16s\u001b[0m 5ms/step - accuracy: 0.9702 - loss: 0.0660 - val_accuracy: 0.9553 - val_loss: 0.1094\n",
      "Epoch 31/300\n",
      "\u001b[1m3247/3247\u001b[0m \u001b[32m━━━━━━━━━━━━━━━━━━━━\u001b[0m\u001b[37m\u001b[0m \u001b[1m16s\u001b[0m 5ms/step - accuracy: 0.9712 - loss: 0.0627 - val_accuracy: 0.9554 - val_loss: 0.1135\n",
      "Epoch 32/300\n",
      "\u001b[1m3247/3247\u001b[0m \u001b[32m━━━━━━━━━━━━━━━━━━━━\u001b[0m\u001b[37m\u001b[0m \u001b[1m16s\u001b[0m 5ms/step - accuracy: 0.9715 - loss: 0.0630 - val_accuracy: 0.9567 - val_loss: 0.1155\n",
      "Epoch 33/300\n",
      "\u001b[1m3247/3247\u001b[0m \u001b[32m━━━━━━━━━━━━━━━━━━━━\u001b[0m\u001b[37m\u001b[0m \u001b[1m16s\u001b[0m 5ms/step - accuracy: 0.9722 - loss: 0.0608 - val_accuracy: 0.9564 - val_loss: 0.1119\n",
      "Epoch 34/300\n",
      "\u001b[1m3247/3247\u001b[0m \u001b[32m━━━━━━━━━━━━━━━━━━━━\u001b[0m\u001b[37m\u001b[0m \u001b[1m15s\u001b[0m 5ms/step - accuracy: 0.9730 - loss: 0.0599 - val_accuracy: 0.9550 - val_loss: 0.1259\n",
      "Epoch 35/300\n",
      "\u001b[1m3247/3247\u001b[0m \u001b[32m━━━━━━━━━━━━━━━━━━━━\u001b[0m\u001b[37m\u001b[0m \u001b[1m15s\u001b[0m 5ms/step - accuracy: 0.9734 - loss: 0.0583 - val_accuracy: 0.9555 - val_loss: 0.1205\n",
      "Epoch 36/300\n",
      "\u001b[1m3247/3247\u001b[0m \u001b[32m━━━━━━━━━━━━━━━━━━━━\u001b[0m\u001b[37m\u001b[0m \u001b[1m16s\u001b[0m 5ms/step - accuracy: 0.9732 - loss: 0.0595 - val_accuracy: 0.9571 - val_loss: 0.1174\n",
      "Epoch 37/300\n",
      "\u001b[1m3247/3247\u001b[0m \u001b[32m━━━━━━━━━━━━━━━━━━━━\u001b[0m\u001b[37m\u001b[0m \u001b[1m16s\u001b[0m 5ms/step - accuracy: 0.9728 - loss: 0.0593 - val_accuracy: 0.9546 - val_loss: 0.1212\n",
      "Epoch 38/300\n",
      "\u001b[1m3247/3247\u001b[0m \u001b[32m━━━━━━━━━━━━━━━━━━━━\u001b[0m\u001b[37m\u001b[0m \u001b[1m16s\u001b[0m 5ms/step - accuracy: 0.9742 - loss: 0.0564 - val_accuracy: 0.9554 - val_loss: 0.1231\n",
      "Epoch 39/300\n",
      "\u001b[1m3247/3247\u001b[0m \u001b[32m━━━━━━━━━━━━━━━━━━━━\u001b[0m\u001b[37m\u001b[0m \u001b[1m17s\u001b[0m 5ms/step - accuracy: 0.9749 - loss: 0.0560 - val_accuracy: 0.9552 - val_loss: 0.1243\n",
      "Epoch 40/300\n",
      "\u001b[1m3247/3247\u001b[0m \u001b[32m━━━━━━━━━━━━━━━━━━━━\u001b[0m\u001b[37m\u001b[0m \u001b[1m17s\u001b[0m 5ms/step - accuracy: 0.9748 - loss: 0.0578 - val_accuracy: 0.9547 - val_loss: 0.1234\n",
      "Epoch 41/300\n",
      "\u001b[1m3247/3247\u001b[0m \u001b[32m━━━━━━━━━━━━━━━━━━━━\u001b[0m\u001b[37m\u001b[0m \u001b[1m16s\u001b[0m 5ms/step - accuracy: 0.9743 - loss: 0.0563 - val_accuracy: 0.9521 - val_loss: 0.1270\n",
      "Epoch 42/300\n",
      "\u001b[1m3247/3247\u001b[0m \u001b[32m━━━━━━━━━━━━━━━━━━━━\u001b[0m\u001b[37m\u001b[0m \u001b[1m16s\u001b[0m 5ms/step - accuracy: 0.9757 - loss: 0.0536 - val_accuracy: 0.9552 - val_loss: 0.1247\n",
      "Epoch 43/300\n",
      "\u001b[1m3247/3247\u001b[0m \u001b[32m━━━━━━━━━━━━━━━━━━━━\u001b[0m\u001b[37m\u001b[0m \u001b[1m16s\u001b[0m 5ms/step - accuracy: 0.9767 - loss: 0.0530 - val_accuracy: 0.9535 - val_loss: 0.1263\n",
      "Epoch 44/300\n",
      "\u001b[1m3247/3247\u001b[0m \u001b[32m━━━━━━━━━━━━━━━━━━━━\u001b[0m\u001b[37m\u001b[0m \u001b[1m16s\u001b[0m 5ms/step - accuracy: 0.9757 - loss: 0.0532 - val_accuracy: 0.9539 - val_loss: 0.1300\n",
      "Epoch 45/300\n",
      "\u001b[1m3247/3247\u001b[0m \u001b[32m━━━━━━━━━━━━━━━━━━━━\u001b[0m\u001b[37m\u001b[0m \u001b[1m16s\u001b[0m 5ms/step - accuracy: 0.9772 - loss: 0.0522 - val_accuracy: 0.9558 - val_loss: 0.1355\n",
      "Epoch 46/300\n",
      "\u001b[1m3247/3247\u001b[0m \u001b[32m━━━━━━━━━━━━━━━━━━━━\u001b[0m\u001b[37m\u001b[0m \u001b[1m17s\u001b[0m 5ms/step - accuracy: 0.9764 - loss: 0.0526 - val_accuracy: 0.9545 - val_loss: 0.1355\n",
      "Epoch 47/300\n",
      "\u001b[1m3247/3247\u001b[0m \u001b[32m━━━━━━━━━━━━━━━━━━━━\u001b[0m\u001b[37m\u001b[0m \u001b[1m17s\u001b[0m 5ms/step - accuracy: 0.9766 - loss: 0.0516 - val_accuracy: 0.9528 - val_loss: 0.1447\n",
      "Epoch 48/300\n",
      "\u001b[1m3247/3247\u001b[0m \u001b[32m━━━━━━━━━━━━━━━━━━━━\u001b[0m\u001b[37m\u001b[0m \u001b[1m16s\u001b[0m 5ms/step - accuracy: 0.9774 - loss: 0.0516 - val_accuracy: 0.9522 - val_loss: 0.1351\n",
      "Epoch 49/300\n",
      "\u001b[1m3247/3247\u001b[0m \u001b[32m━━━━━━━━━━━━━━━━━━━━\u001b[0m\u001b[37m\u001b[0m \u001b[1m16s\u001b[0m 5ms/step - accuracy: 0.9787 - loss: 0.0492 - val_accuracy: 0.9531 - val_loss: 0.1402\n",
      "Epoch 50/300\n",
      "\u001b[1m3247/3247\u001b[0m \u001b[32m━━━━━━━━━━━━━━━━━━━━\u001b[0m\u001b[37m\u001b[0m \u001b[1m16s\u001b[0m 5ms/step - accuracy: 0.9783 - loss: 0.0491 - val_accuracy: 0.9531 - val_loss: 0.1434\n",
      "Epoch 51/300\n",
      "\u001b[1m3247/3247\u001b[0m \u001b[32m━━━━━━━━━━━━━━━━━━━━\u001b[0m\u001b[37m\u001b[0m \u001b[1m16s\u001b[0m 5ms/step - accuracy: 0.9777 - loss: 0.0501 - val_accuracy: 0.9520 - val_loss: 0.1432\n",
      "Epoch 52/300\n",
      "\u001b[1m3247/3247\u001b[0m \u001b[32m━━━━━━━━━━━━━━━━━━━━\u001b[0m\u001b[37m\u001b[0m \u001b[1m16s\u001b[0m 5ms/step - accuracy: 0.9787 - loss: 0.0487 - val_accuracy: 0.9555 - val_loss: 0.1485\n",
      "Epoch 53/300\n",
      "\u001b[1m3247/3247\u001b[0m \u001b[32m━━━━━━━━━━━━━━━━━━━━\u001b[0m\u001b[37m\u001b[0m \u001b[1m16s\u001b[0m 5ms/step - accuracy: 0.9783 - loss: 0.0476 - val_accuracy: 0.9533 - val_loss: 0.1397\n",
      "Epoch 54/300\n",
      "\u001b[1m3247/3247\u001b[0m \u001b[32m━━━━━━━━━━━━━━━━━━━━\u001b[0m\u001b[37m\u001b[0m \u001b[1m16s\u001b[0m 5ms/step - accuracy: 0.9801 - loss: 0.0453 - val_accuracy: 0.9533 - val_loss: 0.1426\n",
      "Epoch 55/300\n",
      "\u001b[1m3247/3247\u001b[0m \u001b[32m━━━━━━━━━━━━━━━━━━━━\u001b[0m\u001b[37m\u001b[0m \u001b[1m16s\u001b[0m 5ms/step - accuracy: 0.9798 - loss: 0.0464 - val_accuracy: 0.9522 - val_loss: 0.1465\n",
      "Epoch 56/300\n",
      "\u001b[1m3247/3247\u001b[0m \u001b[32m━━━━━━━━━━━━━━━━━━━━\u001b[0m\u001b[37m\u001b[0m \u001b[1m16s\u001b[0m 5ms/step - accuracy: 0.9802 - loss: 0.0445 - val_accuracy: 0.9516 - val_loss: 0.1546\n",
      "Epoch 57/300\n",
      "\u001b[1m3247/3247\u001b[0m \u001b[32m━━━━━━━━━━━━━━━━━━━━\u001b[0m\u001b[37m\u001b[0m \u001b[1m21s\u001b[0m 5ms/step - accuracy: 0.9805 - loss: 0.0437 - val_accuracy: 0.9526 - val_loss: 0.1515\n",
      "Epoch 58/300\n",
      "\u001b[1m3247/3247\u001b[0m \u001b[32m━━━━━━━━━━━━━━━━━━━━\u001b[0m\u001b[37m\u001b[0m \u001b[1m17s\u001b[0m 5ms/step - accuracy: 0.9804 - loss: 0.0436 - val_accuracy: 0.9513 - val_loss: 0.1556\n",
      "Epoch 59/300\n",
      "\u001b[1m3247/3247\u001b[0m \u001b[32m━━━━━━━━━━━━━━━━━━━━\u001b[0m\u001b[37m\u001b[0m \u001b[1m17s\u001b[0m 5ms/step - accuracy: 0.9821 - loss: 0.0414 - val_accuracy: 0.9525 - val_loss: 0.1533\n",
      "Epoch 60/300\n",
      "\u001b[1m3247/3247\u001b[0m \u001b[32m━━━━━━━━━━━━━━━━━━━━\u001b[0m\u001b[37m\u001b[0m \u001b[1m18s\u001b[0m 5ms/step - accuracy: 0.9815 - loss: 0.0437 - val_accuracy: 0.9531 - val_loss: 0.1547\n",
      "Epoch 61/300\n",
      "\u001b[1m3247/3247\u001b[0m \u001b[32m━━━━━━━━━━━━━━━━━━━━\u001b[0m\u001b[37m\u001b[0m \u001b[1m16s\u001b[0m 5ms/step - accuracy: 0.9816 - loss: 0.0427 - val_accuracy: 0.9529 - val_loss: 0.1585\n",
      "Epoch 62/300\n",
      "\u001b[1m3247/3247\u001b[0m \u001b[32m━━━━━━━━━━━━━━━━━━━━\u001b[0m\u001b[37m\u001b[0m \u001b[1m16s\u001b[0m 5ms/step - accuracy: 0.9823 - loss: 0.0421 - val_accuracy: 0.9517 - val_loss: 0.1572\n",
      "Epoch 63/300\n",
      "\u001b[1m3247/3247\u001b[0m \u001b[32m━━━━━━━━━━━━━━━━━━━━\u001b[0m\u001b[37m\u001b[0m \u001b[1m16s\u001b[0m 5ms/step - accuracy: 0.9818 - loss: 0.0414 - val_accuracy: 0.9533 - val_loss: 0.1571\n",
      "Epoch 64/300\n",
      "\u001b[1m3247/3247\u001b[0m \u001b[32m━━━━━━━━━━━━━━━━━━━━\u001b[0m\u001b[37m\u001b[0m \u001b[1m16s\u001b[0m 5ms/step - accuracy: 0.9825 - loss: 0.0406 - val_accuracy: 0.9541 - val_loss: 0.1679\n",
      "Epoch 65/300\n",
      "\u001b[1m3247/3247\u001b[0m \u001b[32m━━━━━━━━━━━━━━━━━━━━\u001b[0m\u001b[37m\u001b[0m \u001b[1m16s\u001b[0m 5ms/step - accuracy: 0.9825 - loss: 0.0396 - val_accuracy: 0.9527 - val_loss: 0.1571\n",
      "Epoch 66/300\n",
      "\u001b[1m3247/3247\u001b[0m \u001b[32m━━━━━━━━━━━━━━━━━━━━\u001b[0m\u001b[37m\u001b[0m \u001b[1m18s\u001b[0m 5ms/step - accuracy: 0.9826 - loss: 0.0395 - val_accuracy: 0.9505 - val_loss: 0.1656\n",
      "Epoch 67/300\n",
      "\u001b[1m3247/3247\u001b[0m \u001b[32m━━━━━━━━━━━━━━━━━━━━\u001b[0m\u001b[37m\u001b[0m \u001b[1m16s\u001b[0m 5ms/step - accuracy: 0.9825 - loss: 0.0406 - val_accuracy: 0.9520 - val_loss: 0.1670\n",
      "Epoch 68/300\n",
      "\u001b[1m3247/3247\u001b[0m \u001b[32m━━━━━━━━━━━━━━━━━━━━\u001b[0m\u001b[37m\u001b[0m \u001b[1m15s\u001b[0m 5ms/step - accuracy: 0.9836 - loss: 0.0389 - val_accuracy: 0.9513 - val_loss: 0.1733\n",
      "Epoch 69/300\n",
      "\u001b[1m3247/3247\u001b[0m \u001b[32m━━━━━━━━━━━━━━━━━━━━\u001b[0m\u001b[37m\u001b[0m \u001b[1m18s\u001b[0m 6ms/step - accuracy: 0.9827 - loss: 0.0395 - val_accuracy: 0.9521 - val_loss: 0.1628\n",
      "Epoch 70/300\n",
      "\u001b[1m3247/3247\u001b[0m \u001b[32m━━━━━━━━━━━━━━━━━━━━\u001b[0m\u001b[37m\u001b[0m \u001b[1m23s\u001b[0m 7ms/step - accuracy: 0.9840 - loss: 0.0378 - val_accuracy: 0.9508 - val_loss: 0.1697\n",
      "Epoch 71/300\n",
      "\u001b[1m3247/3247\u001b[0m \u001b[32m━━━━━━━━━━━━━━━━━━━━\u001b[0m\u001b[37m\u001b[0m \u001b[1m21s\u001b[0m 6ms/step - accuracy: 0.9847 - loss: 0.0367 - val_accuracy: 0.9514 - val_loss: 0.1759\n",
      "Epoch 72/300\n",
      "\u001b[1m3247/3247\u001b[0m \u001b[32m━━━━━━━━━━━━━━━━━━━━\u001b[0m\u001b[37m\u001b[0m \u001b[1m19s\u001b[0m 6ms/step - accuracy: 0.9840 - loss: 0.0371 - val_accuracy: 0.9519 - val_loss: 0.1698\n",
      "Epoch 73/300\n",
      "\u001b[1m3247/3247\u001b[0m \u001b[32m━━━━━━━━━━━━━━━━━━━━\u001b[0m\u001b[37m\u001b[0m \u001b[1m15s\u001b[0m 5ms/step - accuracy: 0.9842 - loss: 0.0368 - val_accuracy: 0.9513 - val_loss: 0.1659\n",
      "Epoch 74/300\n",
      "\u001b[1m3247/3247\u001b[0m \u001b[32m━━━━━━━━━━━━━━━━━━━━\u001b[0m\u001b[37m\u001b[0m \u001b[1m16s\u001b[0m 5ms/step - accuracy: 0.9848 - loss: 0.0358 - val_accuracy: 0.9521 - val_loss: 0.1708\n",
      "Epoch 75/300\n",
      "\u001b[1m3247/3247\u001b[0m \u001b[32m━━━━━━━━━━━━━━━━━━━━\u001b[0m\u001b[37m\u001b[0m \u001b[1m16s\u001b[0m 5ms/step - accuracy: 0.9846 - loss: 0.0365 - val_accuracy: 0.9511 - val_loss: 0.1752\n",
      "Epoch 76/300\n",
      "\u001b[1m3247/3247\u001b[0m \u001b[32m━━━━━━━━━━━━━━━━━━━━\u001b[0m\u001b[37m\u001b[0m \u001b[1m15s\u001b[0m 5ms/step - accuracy: 0.9845 - loss: 0.0353 - val_accuracy: 0.9514 - val_loss: 0.1927\n",
      "Epoch 77/300\n",
      "\u001b[1m3247/3247\u001b[0m \u001b[32m━━━━━━━━━━━━━━━━━━━━\u001b[0m\u001b[37m\u001b[0m \u001b[1m16s\u001b[0m 5ms/step - accuracy: 0.9848 - loss: 0.0363 - val_accuracy: 0.9519 - val_loss: 0.1835\n",
      "Epoch 78/300\n",
      "\u001b[1m3247/3247\u001b[0m \u001b[32m━━━━━━━━━━━━━━━━━━━━\u001b[0m\u001b[37m\u001b[0m \u001b[1m16s\u001b[0m 5ms/step - accuracy: 0.9845 - loss: 0.0364 - val_accuracy: 0.9520 - val_loss: 0.1801\n",
      "Epoch 79/300\n",
      "\u001b[1m3247/3247\u001b[0m \u001b[32m━━━━━━━━━━━━━━━━━━━━\u001b[0m\u001b[37m\u001b[0m \u001b[1m16s\u001b[0m 5ms/step - accuracy: 0.9855 - loss: 0.0349 - val_accuracy: 0.9509 - val_loss: 0.1834\n",
      "Epoch 80/300\n",
      "\u001b[1m3247/3247\u001b[0m \u001b[32m━━━━━━━━━━━━━━━━━━━━\u001b[0m\u001b[37m\u001b[0m \u001b[1m16s\u001b[0m 5ms/step - accuracy: 0.9838 - loss: 0.0379 - val_accuracy: 0.9528 - val_loss: 0.1838\n",
      "Epoch 81/300\n",
      "\u001b[1m3247/3247\u001b[0m \u001b[32m━━━━━━━━━━━━━━━━━━━━\u001b[0m\u001b[37m\u001b[0m \u001b[1m16s\u001b[0m 5ms/step - accuracy: 0.9862 - loss: 0.0345 - val_accuracy: 0.9521 - val_loss: 0.1797\n",
      "Epoch 82/300\n",
      "\u001b[1m3247/3247\u001b[0m \u001b[32m━━━━━━━━━━━━━━━━━━━━\u001b[0m\u001b[37m\u001b[0m \u001b[1m16s\u001b[0m 5ms/step - accuracy: 0.9855 - loss: 0.0340 - val_accuracy: 0.9507 - val_loss: 0.1883\n",
      "Epoch 83/300\n",
      "\u001b[1m3247/3247\u001b[0m \u001b[32m━━━━━━━━━━━━━━━━━━━━\u001b[0m\u001b[37m\u001b[0m \u001b[1m16s\u001b[0m 5ms/step - accuracy: 0.9864 - loss: 0.0327 - val_accuracy: 0.9510 - val_loss: 0.1821\n",
      "Epoch 84/300\n",
      "\u001b[1m3247/3247\u001b[0m \u001b[32m━━━━━━━━━━━━━━━━━━━━\u001b[0m\u001b[37m\u001b[0m \u001b[1m16s\u001b[0m 5ms/step - accuracy: 0.9859 - loss: 0.0327 - val_accuracy: 0.9506 - val_loss: 0.1834\n",
      "Epoch 85/300\n",
      "\u001b[1m3247/3247\u001b[0m \u001b[32m━━━━━━━━━━━━━━━━━━━━\u001b[0m\u001b[37m\u001b[0m \u001b[1m16s\u001b[0m 5ms/step - accuracy: 0.9850 - loss: 0.0343 - val_accuracy: 0.9511 - val_loss: 0.1869\n",
      "Epoch 86/300\n",
      "\u001b[1m3247/3247\u001b[0m \u001b[32m━━━━━━━━━━━━━━━━━━━━\u001b[0m\u001b[37m\u001b[0m \u001b[1m18s\u001b[0m 6ms/step - accuracy: 0.9877 - loss: 0.0307 - val_accuracy: 0.9531 - val_loss: 0.1856\n",
      "Epoch 87/300\n",
      "\u001b[1m3247/3247\u001b[0m \u001b[32m━━━━━━━━━━━━━━━━━━━━\u001b[0m\u001b[37m\u001b[0m \u001b[1m16s\u001b[0m 5ms/step - accuracy: 0.9868 - loss: 0.0318 - val_accuracy: 0.9496 - val_loss: 0.1951\n",
      "Epoch 88/300\n",
      "\u001b[1m3247/3247\u001b[0m \u001b[32m━━━━━━━━━━━━━━━━━━━━\u001b[0m\u001b[37m\u001b[0m \u001b[1m16s\u001b[0m 5ms/step - accuracy: 0.9860 - loss: 0.0322 - val_accuracy: 0.9504 - val_loss: 0.1888\n",
      "Epoch 89/300\n",
      "\u001b[1m3247/3247\u001b[0m \u001b[32m━━━━━━━━━━━━━━━━━━━━\u001b[0m\u001b[37m\u001b[0m \u001b[1m16s\u001b[0m 5ms/step - accuracy: 0.9868 - loss: 0.0309 - val_accuracy: 0.9511 - val_loss: 0.1967\n",
      "Epoch 90/300\n",
      "\u001b[1m3247/3247\u001b[0m \u001b[32m━━━━━━━━━━━━━━━━━━━━\u001b[0m\u001b[37m\u001b[0m \u001b[1m16s\u001b[0m 5ms/step - accuracy: 0.9871 - loss: 0.0312 - val_accuracy: 0.9510 - val_loss: 0.1923\n",
      "Epoch 91/300\n",
      "\u001b[1m3247/3247\u001b[0m \u001b[32m━━━━━━━━━━━━━━━━━━━━\u001b[0m\u001b[37m\u001b[0m \u001b[1m16s\u001b[0m 5ms/step - accuracy: 0.9865 - loss: 0.0309 - val_accuracy: 0.9497 - val_loss: 0.1938\n",
      "Epoch 92/300\n",
      "\u001b[1m3247/3247\u001b[0m \u001b[32m━━━━━━━━━━━━━━━━━━━━\u001b[0m\u001b[37m\u001b[0m \u001b[1m16s\u001b[0m 5ms/step - accuracy: 0.9867 - loss: 0.0316 - val_accuracy: 0.9508 - val_loss: 0.2029\n",
      "Epoch 93/300\n",
      "\u001b[1m3247/3247\u001b[0m \u001b[32m━━━━━━━━━━━━━━━━━━━━\u001b[0m\u001b[37m\u001b[0m \u001b[1m22s\u001b[0m 5ms/step - accuracy: 0.9875 - loss: 0.0300 - val_accuracy: 0.9498 - val_loss: 0.1943\n",
      "Epoch 94/300\n",
      "\u001b[1m3247/3247\u001b[0m \u001b[32m━━━━━━━━━━━━━━━━━━━━\u001b[0m\u001b[37m\u001b[0m \u001b[1m17s\u001b[0m 5ms/step - accuracy: 0.9872 - loss: 0.0299 - val_accuracy: 0.9511 - val_loss: 0.1956\n",
      "Epoch 95/300\n",
      "\u001b[1m3247/3247\u001b[0m \u001b[32m━━━━━━━━━━━━━━━━━━━━\u001b[0m\u001b[37m\u001b[0m \u001b[1m16s\u001b[0m 5ms/step - accuracy: 0.9878 - loss: 0.0292 - val_accuracy: 0.9494 - val_loss: 0.1968\n",
      "Epoch 96/300\n",
      "\u001b[1m3247/3247\u001b[0m \u001b[32m━━━━━━━━━━━━━━━━━━━━\u001b[0m\u001b[37m\u001b[0m \u001b[1m16s\u001b[0m 5ms/step - accuracy: 0.9875 - loss: 0.0307 - val_accuracy: 0.9502 - val_loss: 0.2001\n",
      "Epoch 97/300\n",
      "\u001b[1m3247/3247\u001b[0m \u001b[32m━━━━━━━━━━━━━━━━━━━━\u001b[0m\u001b[37m\u001b[0m \u001b[1m17s\u001b[0m 5ms/step - accuracy: 0.9877 - loss: 0.0292 - val_accuracy: 0.9510 - val_loss: 0.2102\n",
      "Epoch 98/300\n",
      "\u001b[1m3247/3247\u001b[0m \u001b[32m━━━━━━━━━━━━━━━━━━━━\u001b[0m\u001b[37m\u001b[0m \u001b[1m16s\u001b[0m 5ms/step - accuracy: 0.9876 - loss: 0.0302 - val_accuracy: 0.9515 - val_loss: 0.2049\n",
      "Epoch 99/300\n",
      "\u001b[1m3247/3247\u001b[0m \u001b[32m━━━━━━━━━━━━━━━━━━━━\u001b[0m\u001b[37m\u001b[0m \u001b[1m15s\u001b[0m 5ms/step - accuracy: 0.9876 - loss: 0.0301 - val_accuracy: 0.9501 - val_loss: 0.2026\n",
      "Epoch 100/300\n",
      "\u001b[1m3247/3247\u001b[0m \u001b[32m━━━━━━━━━━━━━━━━━━━━\u001b[0m\u001b[37m\u001b[0m \u001b[1m15s\u001b[0m 5ms/step - accuracy: 0.9890 - loss: 0.0287 - val_accuracy: 0.9501 - val_loss: 0.2019\n",
      "Epoch 101/300\n",
      "\u001b[1m3247/3247\u001b[0m \u001b[32m━━━━━━━━━━━━━━━━━━━━\u001b[0m\u001b[37m\u001b[0m \u001b[1m15s\u001b[0m 5ms/step - accuracy: 0.9883 - loss: 0.0280 - val_accuracy: 0.9506 - val_loss: 0.2023\n",
      "Epoch 102/300\n",
      "\u001b[1m3247/3247\u001b[0m \u001b[32m━━━━━━━━━━━━━━━━━━━━\u001b[0m\u001b[37m\u001b[0m \u001b[1m15s\u001b[0m 5ms/step - accuracy: 0.9884 - loss: 0.0278 - val_accuracy: 0.9512 - val_loss: 0.2034\n",
      "Epoch 103/300\n",
      "\u001b[1m3247/3247\u001b[0m \u001b[32m━━━━━━━━━━━━━━━━━━━━\u001b[0m\u001b[37m\u001b[0m \u001b[1m16s\u001b[0m 5ms/step - accuracy: 0.9877 - loss: 0.0288 - val_accuracy: 0.9495 - val_loss: 0.2126\n",
      "Epoch 104/300\n",
      "\u001b[1m3247/3247\u001b[0m \u001b[32m━━━━━━━━━━━━━━━━━━━━\u001b[0m\u001b[37m\u001b[0m \u001b[1m16s\u001b[0m 5ms/step - accuracy: 0.9888 - loss: 0.0283 - val_accuracy: 0.9505 - val_loss: 0.2171\n",
      "Epoch 105/300\n",
      "\u001b[1m3247/3247\u001b[0m \u001b[32m━━━━━━━━━━━━━━━━━━━━\u001b[0m\u001b[37m\u001b[0m \u001b[1m15s\u001b[0m 5ms/step - accuracy: 0.9880 - loss: 0.0297 - val_accuracy: 0.9506 - val_loss: 0.2119\n",
      "Epoch 106/300\n",
      "\u001b[1m3247/3247\u001b[0m \u001b[32m━━━━━━━━━━━━━━━━━━━━\u001b[0m\u001b[37m\u001b[0m \u001b[1m16s\u001b[0m 5ms/step - accuracy: 0.9891 - loss: 0.0273 - val_accuracy: 0.9486 - val_loss: 0.2036\n",
      "Epoch 107/300\n",
      "\u001b[1m3247/3247\u001b[0m \u001b[32m━━━━━━━━━━━━━━━━━━━━\u001b[0m\u001b[37m\u001b[0m \u001b[1m16s\u001b[0m 5ms/step - accuracy: 0.9885 - loss: 0.0283 - val_accuracy: 0.9510 - val_loss: 0.2082\n",
      "Epoch 108/300\n",
      "\u001b[1m3247/3247\u001b[0m \u001b[32m━━━━━━━━━━━━━━━━━━━━\u001b[0m\u001b[37m\u001b[0m \u001b[1m17s\u001b[0m 5ms/step - accuracy: 0.9888 - loss: 0.0286 - val_accuracy: 0.9503 - val_loss: 0.2081\n",
      "Epoch 109/300\n",
      "\u001b[1m3247/3247\u001b[0m \u001b[32m━━━━━━━━━━━━━━━━━━━━\u001b[0m\u001b[37m\u001b[0m \u001b[1m17s\u001b[0m 5ms/step - accuracy: 0.9893 - loss: 0.0270 - val_accuracy: 0.9506 - val_loss: 0.2160\n",
      "Epoch 110/300\n",
      "\u001b[1m3247/3247\u001b[0m \u001b[32m━━━━━━━━━━━━━━━━━━━━\u001b[0m\u001b[37m\u001b[0m \u001b[1m16s\u001b[0m 5ms/step - accuracy: 0.9893 - loss: 0.0262 - val_accuracy: 0.9490 - val_loss: 0.2051\n",
      "Epoch 111/300\n",
      "\u001b[1m3247/3247\u001b[0m \u001b[32m━━━━━━━━━━━━━━━━━━━━\u001b[0m\u001b[37m\u001b[0m \u001b[1m16s\u001b[0m 5ms/step - accuracy: 0.9896 - loss: 0.0268 - val_accuracy: 0.9510 - val_loss: 0.2001\n",
      "Epoch 112/300\n",
      "\u001b[1m3247/3247\u001b[0m \u001b[32m━━━━━━━━━━━━━━━━━━━━\u001b[0m\u001b[37m\u001b[0m \u001b[1m16s\u001b[0m 5ms/step - accuracy: 0.9892 - loss: 0.0259 - val_accuracy: 0.9493 - val_loss: 0.2168\n",
      "Epoch 113/300\n",
      "\u001b[1m3247/3247\u001b[0m \u001b[32m━━━━━━━━━━━━━━━━━━━━\u001b[0m\u001b[37m\u001b[0m \u001b[1m19s\u001b[0m 6ms/step - accuracy: 0.9904 - loss: 0.0243 - val_accuracy: 0.9498 - val_loss: 0.2177\n",
      "Epoch 114/300\n",
      "\u001b[1m3247/3247\u001b[0m \u001b[32m━━━━━━━━━━━━━━━━━━━━\u001b[0m\u001b[37m\u001b[0m \u001b[1m18s\u001b[0m 6ms/step - accuracy: 0.9893 - loss: 0.0264 - val_accuracy: 0.9501 - val_loss: 0.2196\n",
      "Epoch 115/300\n",
      "\u001b[1m3247/3247\u001b[0m \u001b[32m━━━━━━━━━━━━━━━━━━━━\u001b[0m\u001b[37m\u001b[0m \u001b[1m18s\u001b[0m 6ms/step - accuracy: 0.9895 - loss: 0.0261 - val_accuracy: 0.9497 - val_loss: 0.2162\n",
      "Epoch 116/300\n",
      "\u001b[1m3247/3247\u001b[0m \u001b[32m━━━━━━━━━━━━━━━━━━━━\u001b[0m\u001b[37m\u001b[0m \u001b[1m18s\u001b[0m 5ms/step - accuracy: 0.9900 - loss: 0.0247 - val_accuracy: 0.9488 - val_loss: 0.2192\n",
      "Epoch 117/300\n",
      "\u001b[1m3247/3247\u001b[0m \u001b[32m━━━━━━━━━━━━━━━━━━━━\u001b[0m\u001b[37m\u001b[0m \u001b[1m18s\u001b[0m 6ms/step - accuracy: 0.9898 - loss: 0.0257 - val_accuracy: 0.9498 - val_loss: 0.2225\n",
      "Epoch 118/300\n",
      "\u001b[1m3247/3247\u001b[0m \u001b[32m━━━━━━━━━━━━━━━━━━━━\u001b[0m\u001b[37m\u001b[0m \u001b[1m16s\u001b[0m 5ms/step - accuracy: 0.9892 - loss: 0.0258 - val_accuracy: 0.9505 - val_loss: 0.2166\n",
      "Epoch 119/300\n",
      "\u001b[1m3247/3247\u001b[0m \u001b[32m━━━━━━━━━━━━━━━━━━━━\u001b[0m\u001b[37m\u001b[0m \u001b[1m17s\u001b[0m 5ms/step - accuracy: 0.9902 - loss: 0.0251 - val_accuracy: 0.9502 - val_loss: 0.2168\n",
      "Epoch 120/300\n",
      "\u001b[1m3247/3247\u001b[0m \u001b[32m━━━━━━━━━━━━━━━━━━━━\u001b[0m\u001b[37m\u001b[0m \u001b[1m18s\u001b[0m 6ms/step - accuracy: 0.9894 - loss: 0.0264 - val_accuracy: 0.9487 - val_loss: 0.2184\n",
      "Epoch 121/300\n",
      "\u001b[1m3247/3247\u001b[0m \u001b[32m━━━━━━━━━━━━━━━━━━━━\u001b[0m\u001b[37m\u001b[0m \u001b[1m17s\u001b[0m 5ms/step - accuracy: 0.9898 - loss: 0.0259 - val_accuracy: 0.9499 - val_loss: 0.2167\n",
      "Epoch 122/300\n",
      "\u001b[1m3247/3247\u001b[0m \u001b[32m━━━━━━━━━━━━━━━━━━━━\u001b[0m\u001b[37m\u001b[0m \u001b[1m17s\u001b[0m 5ms/step - accuracy: 0.9896 - loss: 0.0255 - val_accuracy: 0.9504 - val_loss: 0.2228\n",
      "Epoch 123/300\n",
      "\u001b[1m3247/3247\u001b[0m \u001b[32m━━━━━━━━━━━━━━━━━━━━\u001b[0m\u001b[37m\u001b[0m \u001b[1m17s\u001b[0m 5ms/step - accuracy: 0.9901 - loss: 0.0247 - val_accuracy: 0.9510 - val_loss: 0.2243\n",
      "Epoch 124/300\n",
      "\u001b[1m3247/3247\u001b[0m \u001b[32m━━━━━━━━━━━━━━━━━━━━\u001b[0m\u001b[37m\u001b[0m \u001b[1m17s\u001b[0m 5ms/step - accuracy: 0.9898 - loss: 0.0250 - val_accuracy: 0.9496 - val_loss: 0.2229\n",
      "Epoch 125/300\n",
      "\u001b[1m3247/3247\u001b[0m \u001b[32m━━━━━━━━━━━━━━━━━━━━\u001b[0m\u001b[37m\u001b[0m \u001b[1m17s\u001b[0m 5ms/step - accuracy: 0.9901 - loss: 0.0251 - val_accuracy: 0.9495 - val_loss: 0.2222\n",
      "Epoch 126/300\n",
      "\u001b[1m3247/3247\u001b[0m \u001b[32m━━━━━━━━━━━━━━━━━━━━\u001b[0m\u001b[37m\u001b[0m \u001b[1m18s\u001b[0m 5ms/step - accuracy: 0.9901 - loss: 0.0250 - val_accuracy: 0.9498 - val_loss: 0.2211\n",
      "Epoch 127/300\n",
      "\u001b[1m3247/3247\u001b[0m \u001b[32m━━━━━━━━━━━━━━━━━━━━\u001b[0m\u001b[37m\u001b[0m \u001b[1m17s\u001b[0m 5ms/step - accuracy: 0.9903 - loss: 0.0242 - val_accuracy: 0.9502 - val_loss: 0.2147\n",
      "Epoch 128/300\n",
      "\u001b[1m3247/3247\u001b[0m \u001b[32m━━━━━━━━━━━━━━━━━━━━\u001b[0m\u001b[37m\u001b[0m \u001b[1m18s\u001b[0m 5ms/step - accuracy: 0.9906 - loss: 0.0233 - val_accuracy: 0.9497 - val_loss: 0.2335\n",
      "Epoch 129/300\n",
      "\u001b[1m1813/3247\u001b[0m \u001b[32m━━━━━━━━━━━\u001b[0m\u001b[37m━━━━━━━━━\u001b[0m \u001b[1m6s\u001b[0m 4ms/step - accuracy: 0.9916 - loss: 0.0234"
     ]
    }
   ],
   "source": [
    "model.fit(X_train, y_train, epochs=300, validation_data=(X_test, y_test))\n"
   ]
  },
  {
   "cell_type": "code",
   "execution_count": null,
   "id": "ce9b7b9d-56d7-427a-99f5-4b0fd224fe89",
   "metadata": {},
   "outputs": [],
   "source": []
  },
  {
   "cell_type": "code",
   "execution_count": null,
   "id": "126069ca-3266-4aea-b6d1-f62e38f5bea5",
   "metadata": {},
   "outputs": [],
   "source": []
  },
  {
   "cell_type": "code",
   "execution_count": null,
   "id": "baa5391b-cb35-4f3e-ba34-63e9ceb4f3e6",
   "metadata": {},
   "outputs": [],
   "source": []
  },
  {
   "cell_type": "code",
   "execution_count": null,
   "id": "ea24d370-bcef-413d-9757-7dcc14aa3b03",
   "metadata": {},
   "outputs": [],
   "source": []
  },
  {
   "cell_type": "code",
   "execution_count": null,
   "id": "8540956d-d468-4555-a29d-ea43f30696e8",
   "metadata": {},
   "outputs": [],
   "source": []
  },
  {
   "cell_type": "code",
   "execution_count": null,
   "id": "508269f6-4f26-4b77-99bf-c7b2ff77f507",
   "metadata": {},
   "outputs": [],
   "source": []
  },
  {
   "cell_type": "code",
   "execution_count": null,
   "id": "d12ab383-b9ff-4cdd-a96e-a9145b3581b4",
   "metadata": {},
   "outputs": [],
   "source": []
  },
  {
   "cell_type": "code",
   "execution_count": null,
   "id": "996409c8-06da-4c0a-bb90-03391d9a970c",
   "metadata": {},
   "outputs": [],
   "source": []
  },
  {
   "cell_type": "code",
   "execution_count": null,
   "id": "874b516e-0993-4556-b18d-598bea495600",
   "metadata": {},
   "outputs": [],
   "source": []
  }
 ],
 "metadata": {
  "kernelspec": {
   "display_name": "Python 3 (ipykernel)",
   "language": "python",
   "name": "python3"
  },
  "language_info": {
   "codemirror_mode": {
    "name": "ipython",
    "version": 3
   },
   "file_extension": ".py",
   "mimetype": "text/x-python",
   "name": "python",
   "nbconvert_exporter": "python",
   "pygments_lexer": "ipython3",
   "version": "3.11.7"
  }
 },
 "nbformat": 4,
 "nbformat_minor": 5
}
